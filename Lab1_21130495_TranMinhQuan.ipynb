{
  "nbformat": 4,
  "nbformat_minor": 0,
  "metadata": {
    "colab": {
      "provenance": [],
      "authorship_tag": "ABX9TyN7w+gobgUvZmu5QY81YJ0v",
      "include_colab_link": true
    },
    "kernelspec": {
      "name": "python3",
      "display_name": "Python 3"
    },
    "language_info": {
      "name": "python"
    }
  },
  "cells": [
    {
      "cell_type": "markdown",
      "metadata": {
        "id": "view-in-github",
        "colab_type": "text"
      },
      "source": [
        "<a href=\"https://colab.research.google.com/github/Quan-2507/ML_21130495_TranMinhQuan/blob/main/Lab1_21130495_TranMinhQuan.ipynb\" target=\"_parent\"><img src=\"https://colab.research.google.com/assets/colab-badge.svg\" alt=\"Open In Colab\"/></a>"
      ]
    },
    {
      "cell_type": "markdown",
      "source": [
        "**Task 1. Python Programming**"
      ],
      "metadata": {
        "id": "gECmZLeE8sCC"
      }
    },
    {
      "cell_type": "markdown",
      "source": [
        "Task 1.1. Develop a Python program to perform the following tasks:"
      ],
      "metadata": {
        "id": "sG-A-A-589mH"
      }
    },
    {
      "cell_type": "code",
      "execution_count": 1,
      "metadata": {
        "colab": {
          "base_uri": "https://localhost:8080/"
        },
        "id": "kq4s6IHD7YKv",
        "outputId": "dfbb3d21-7f1b-434c-f6b8-28aa8d20ce95"
      },
      "outputs": [
        {
          "output_type": "stream",
          "name": "stdout",
          "text": [
            "Enter the number of integers: 4\n",
            "Enter integer number 1: 1\n",
            "Enter integer number 2: 2\n",
            "Enter integer number 3: 3\n",
            "Enter integer number 4: 4\n",
            "Max element in L: 4\n",
            "Min element in L: 1\n",
            "Sum of elements in L: 10\n",
            "Sorted list L: [1, 2, 3, 4]\n",
            "Number of positive elements in L: 4\n",
            "Number of negative elements in L: 0\n"
          ]
        }
      ],
      "source": [
        "def main():\n",
        "    n = int(input(\"Enter the number of integers: \"))\n",
        "    L = []\n",
        "\n",
        "    for i in range(n):\n",
        "        num = int(input(f\"Enter integer number {i+1}: \"))\n",
        "        L.append(num)\n",
        "\n",
        "    max_element = max(L)\n",
        "    min_element = min(L)\n",
        "    sum_elements = sum(L)\n",
        "\n",
        "    print(f\"Max element in L: {max_element}\")\n",
        "    print(f\"Min element in L: {min_element}\")\n",
        "    print(f\"Sum of elements in L: {sum_elements}\")\n",
        "\n",
        "    L.sort()\n",
        "    print(\"Sorted list L:\", L)\n",
        "\n",
        "    positive_count = sum(1 for num in L if num > 0)\n",
        "    negative_count = sum(1 for num in L if num < 0)\n",
        "\n",
        "    print(f\"Number of positive elements in L: {positive_count}\")\n",
        "    print(f\"Number of negative elements in L: {negative_count}\")\n",
        "\n",
        "if __name__ == \"__main__\":\n",
        "  main()"
      ]
    },
    {
      "cell_type": "markdown",
      "source": [
        "Task 1.2. Implement a Python function to compute S(n) as follows:"
      ],
      "metadata": {
        "id": "BXWsbB_d9Dme"
      }
    },
    {
      "cell_type": "code",
      "source": [
        "def S(n):\n",
        "    result = 0\n",
        "    product = 1\n",
        "\n",
        "    for i in range(1, n+1):\n",
        "        product *= i\n",
        "        result += product\n",
        "\n",
        "    return result\n",
        "\n",
        "n = int(input(\"Nhập số n>0: \"))\n",
        "if n > 0:\n",
        "    sum = S(n)\n",
        "    print(\"S(n) =\", sum)\n",
        "else:\n",
        "    print(\"n phải lớn hơn 0.\")"
      ],
      "metadata": {
        "colab": {
          "base_uri": "https://localhost:8080/"
        },
        "id": "CXhgEzXG9HDI",
        "outputId": "9f9f5c7e-f8a8-453a-ec2b-5246961e7e29"
      },
      "execution_count": 2,
      "outputs": [
        {
          "output_type": "stream",
          "name": "stdout",
          "text": [
            "Nhập số n>0: 4\n",
            "S(n) = 33\n"
          ]
        }
      ]
    },
    {
      "cell_type": "markdown",
      "source": [
        "Task 1.3. Implement the methods in Account, and AccountManager classes in below\n",
        "figure:"
      ],
      "metadata": {
        "id": "lPzx2xrK-73Z"
      }
    },
    {
      "cell_type": "code",
      "source": [
        "class Account:\n",
        "  def __init__(self, name, email, country,friends, posts):\n",
        "    self.__name=name\n",
        "    self.__email=email\n",
        "    self.__country=country\n",
        "    self.__friends=friends\n",
        "    self.__posts=posts\n",
        "  def getMaxLikePost(self):\n",
        "    max_likes = 0\n",
        "    max_like_post = None\n",
        "    for post in self.get_posts():\n",
        "      num_likes = post.likes\n",
        "      if num_likes > max_likes:\n",
        "        max_likes = num_likes\n",
        "        max_like_post = post\n",
        "    return max_like_post\n",
        "class Post:\n",
        "  def __init__(self, content, subject,likes):\n",
        "    self.__content=content\n",
        "    self.__subject=subject\n",
        "    self.__likes=likes\n",
        "class AccountManager:\n",
        "  def getMaxLikePostByFriend(self, friends):\n",
        "    max_likes = 0\n",
        "    max_like_post = None\n",
        "    max_like_account = None\n",
        "    for friend in friends:\n",
        "      friend_account = instaloader.Profile.from_username(self.context, friend)\n",
        "      post = friend_account.getMaxLikePost()\n",
        "      if post and post.likes > max_likes:\n",
        "        max_likes = post.likes\n",
        "        max_like_post = post\n",
        "        max_like_account = friend_account\n",
        "\n",
        "        return max_like_account\n",
        "\n",
        "    # Group accounts by the number of posts\n",
        "    def groupAccountsByPostLike(self):\n",
        "        groups = {\"true\": [], \"false\": []}\n",
        "\n",
        "        for account in self.account_list:\n",
        "            if account.hasLessPosts():\n",
        "                groups[\"false\"].append(account)\n",
        "            else:\n",
        "                groups[\"true\"].append(account)\n",
        "\n",
        "        return groups\n",
        "\n",
        "    # Filter accounts by country\n",
        "    def filterAccounts(self, country):\n",
        "        filtered_accounts = []\n",
        "\n",
        "        for account in self.account_list:\n",
        "            if account.get_location() and account.get_location().country == country:\n",
        "                filtered_accounts.append(account)\n",
        "\n",
        "        return filtered_accounts"
      ],
      "metadata": {
        "id": "tL2v4T7F-_Dw"
      },
      "execution_count": 2,
      "outputs": []
    }
  ]
}